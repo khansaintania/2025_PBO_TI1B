{
  "nbformat": 4,
  "nbformat_minor": 0,
  "metadata": {
    "colab": {
      "provenance": [],
      "toc_visible": true,
      "authorship_tag": "ABX9TyOadd2V0jWXvydLcD2DI1ih",
      "include_colab_link": true
    },
    "kernelspec": {
      "name": "python3",
      "display_name": "Python 3"
    },
    "language_info": {
      "name": "python"
    }
  },
  "cells": [
    {
      "cell_type": "markdown",
      "metadata": {
        "id": "view-in-github",
        "colab_type": "text"
      },
      "source": [
        "<a href=\"https://colab.research.google.com/github/khansaintania/2025_PBO_TI1B/blob/main/Jobsheet_01.ipynb\" target=\"_parent\"><img src=\"https://colab.research.google.com/assets/colab-badge.svg\" alt=\"Open In Colab\"/></a>"
      ]
    },
    {
      "cell_type": "markdown",
      "source": [
        "# Jobsheet 1: Dasar Bahasa Pemrograman Python"
      ],
      "metadata": {
        "id": "3f61p-iZt3FK"
      }
    },
    {
      "cell_type": "markdown",
      "source": [
        "## Praktikum 01. Tipe Data Dasar"
      ],
      "metadata": {
        "id": "84UngMKzwhll"
      }
    },
    {
      "cell_type": "code",
      "source": [
        "# 1. Number (int, float, complex)\n",
        "# Integer (int)\n",
        "angka_int = 10\n",
        "print(\"angka_int =\", angka_int, \"->\", type(angka_int))\n",
        "\n",
        "# Float\n",
        "angka_float = 3.14\n",
        "print(\"angka_float =\", angka_float, \"->\", type(angka_float))\n",
        "\n",
        "# Complex\n",
        "angka_complex = 2 + 3j\n",
        "print(\"angka_complex =\", angka_complex, \"->\", type(angka_complex))"
      ],
      "metadata": {
        "colab": {
          "base_uri": "https://localhost:8080/"
        },
        "id": "noqn5sdOwaz6",
        "outputId": "05b964af-dbba-4c5e-a01c-4a2c9624c6b1"
      },
      "execution_count": null,
      "outputs": [
        {
          "output_type": "stream",
          "name": "stdout",
          "text": [
            "angka_int = 10 -> <class 'int'>\n",
            "angka_float = 3.14 -> <class 'float'>\n",
            "angka_complex = (2+3j) -> <class 'complex'>\n"
          ]
        }
      ]
    },
    {
      "cell_type": "code",
      "source": [
        "# 2. Boolean\n",
        "is_active = True\n",
        "print(\"is_active =\", is_active, \"->\", type(is_active))"
      ],
      "metadata": {
        "colab": {
          "base_uri": "https://localhost:8080/"
        },
        "id": "bHsSFWp70u9X",
        "outputId": "10859860-226c-4314-e5fc-5202810a257c"
      },
      "execution_count": null,
      "outputs": [
        {
          "output_type": "stream",
          "name": "stdout",
          "text": [
            "is_active = True -> <class 'bool'>\n"
          ]
        }
      ]
    },
    {
      "cell_type": "code",
      "source": [
        "# 3. String\n",
        "teks = \"Hello, Python!\"\n",
        "print(\"teks =\", teks, \"->\", type(teks))"
      ],
      "metadata": {
        "colab": {
          "base_uri": "https://localhost:8080/"
        },
        "id": "j5phUfH51NYI",
        "outputId": "d15ac1df-5115-4b35-973e-9710571fb6cd"
      },
      "execution_count": null,
      "outputs": [
        {
          "output_type": "stream",
          "name": "stdout",
          "text": [
            "teks = Hello, Python! -> <class 'str'>\n"
          ]
        }
      ]
    },
    {
      "cell_type": "code",
      "source": [
        "# 4. List\n",
        "# List adalah tipe data terurut dan dapat diubah (mutable)\n",
        "daftar_angka = [1, 2, 3, 4, 5]\n",
        "print(\"daftar_angka =\", daftar_angka, \"->\", type(daftar_angka))"
      ],
      "metadata": {
        "colab": {
          "base_uri": "https://localhost:8080/"
        },
        "id": "Dq5gZ9Z61Tbv",
        "outputId": "015e9776-d6f6-4cb8-f120-7b5ef1e63f90"
      },
      "execution_count": null,
      "outputs": [
        {
          "output_type": "stream",
          "name": "stdout",
          "text": [
            "daftar_angka = [1, 2, 3, 4, 5] -> <class 'list'>\n"
          ]
        }
      ]
    },
    {
      "cell_type": "code",
      "source": [
        "# 5. Tuple\n",
        "# Tuple adalah tipe data terurut tetapi tidak dapat diubah (immutable)\n",
        "koordinat = (10, 20)\n",
        "print(\"koordinat =\", koordinat, \"->\", type(koordinat))"
      ],
      "metadata": {
        "colab": {
          "base_uri": "https://localhost:8080/"
        },
        "id": "AnbJM1jm134I",
        "outputId": "dd546bd9-ac86-4c94-8bcc-8c8f2326e94c"
      },
      "execution_count": null,
      "outputs": [
        {
          "output_type": "stream",
          "name": "stdout",
          "text": [
            "koordinat = (10, 20) -> <class 'tuple'>\n"
          ]
        }
      ]
    },
    {
      "cell_type": "code",
      "source": [
        "# 6. Dictionary\n",
        "# Dictionary menyimpan data dalam pasangan key-value\n",
        "data_mahasiswa = {\n",
        "    \"nama\": \"Andi\",\n",
        "    \"nim\": \"A11.2022.12345\",\n",
        "    \"jurusan\": \"Teknik Informatika\"\n",
        "}\n",
        "print(\"data_mahasiswa =\", data_mahasiswa, \"->\", type(data_mahasiswa))"
      ],
      "metadata": {
        "colab": {
          "base_uri": "https://localhost:8080/"
        },
        "id": "BeI2nV6U2Rir",
        "outputId": "0b578fe2-08fe-4368-9453-4a58092810a4"
      },
      "execution_count": null,
      "outputs": [
        {
          "output_type": "stream",
          "name": "stdout",
          "text": [
            "data_mahasiswa = {'nama': 'Andi', 'nim': 'A11.2022.12345', 'jurusan': 'Teknik Informatika'} -> <class 'dict'>\n"
          ]
        }
      ]
    },
    {
      "cell_type": "code",
      "source": [
        "# 7. Set\n",
        "# Set adalah tipe data yang tidak terurut, unik (tiap elemen hanya muncul 1x)\n",
        "himpunan_angka = {1, 2, 3, 2, 1}\n",
        "print(\"himpunan_angka =\", himpunan_angka, \"->\", type(himpunan_angka))"
      ],
      "metadata": {
        "colab": {
          "base_uri": "https://localhost:8080/"
        },
        "id": "ffw-J9D42uRb",
        "outputId": "68a0ac20-2163-40c7-f5e1-568ffae34f60"
      },
      "execution_count": null,
      "outputs": [
        {
          "output_type": "stream",
          "name": "stdout",
          "text": [
            "himpunan_angka = {1, 2, 3} -> <class 'set'>\n"
          ]
        }
      ]
    },
    {
      "cell_type": "code",
      "source": [
        "# 8. Contoh penggunaan konversi tipe data\n",
        "nilai_str = \"100\"\n",
        "print(\"\\nnilai_str =\", nilai_str, \"->\", type(nilai_str))\n",
        "nilai_int = int(nilai_str)  # konversi string ke integer\n",
        "print(\"nilai_int =\", nilai_int, \"->\", type(nilai_int))"
      ],
      "metadata": {
        "colab": {
          "base_uri": "https://localhost:8080/"
        },
        "id": "IxDgtUZC2pyu",
        "outputId": "e8ddc027-5e9f-4ac7-87e3-81468955c5e9"
      },
      "execution_count": null,
      "outputs": [
        {
          "output_type": "stream",
          "name": "stdout",
          "text": [
            "\n",
            "nilai_str = 100 -> <class 'str'>\n",
            "nilai_int = 100 -> <class 'int'>\n"
          ]
        }
      ]
    },
    {
      "cell_type": "markdown",
      "source": [
        "## Praktikum 02. Variabel dan Operasi Dasar"
      ],
      "metadata": {
        "id": "QeUkmgmSwmbp"
      }
    },
    {
      "cell_type": "code",
      "source": [
        "# 1. Pendeklarasian Variabel\n",
        "nama = \"Budi\"\n",
        "umur = 20\n",
        "tinggi = 170.5\n",
        "is_student = True\n",
        "\n",
        "print(\"Nama =\", nama)\n",
        "print(\"Umur =\", umur)\n",
        "print(\"Tinggi =\", tinggi, \"cm\")\n",
        "print(\"Mahasiswa =\", is_student)\n",
        "\n",
        "# Python tidak memerlukan deklarasi tipe data secara eksplisit.\n",
        "# Tipe data variabel akan menyesuaikan nilai yang diberikan."
      ],
      "metadata": {
        "colab": {
          "base_uri": "https://localhost:8080/"
        },
        "id": "glGea_cXwpgh",
        "outputId": "fc0cde13-64f0-43b8-ec7d-fa5351517461"
      },
      "execution_count": null,
      "outputs": [
        {
          "output_type": "stream",
          "name": "stdout",
          "text": [
            "Nama = Budi\n",
            "Umur = 20\n",
            "Tinggi = 170.5 cm\n",
            "Mahasiswa = True\n"
          ]
        }
      ]
    },
    {
      "cell_type": "code",
      "source": [
        "# 2. Operasi Aritmetika\n",
        "a = 10\n",
        "b = 3\n",
        "\n",
        "penjumlahan = a + b      # Tambah\n",
        "pengurangan = a - b      # Kurang\n",
        "perkalian = a * b        # Kali\n",
        "pembagian = a / b        # Bagi (hasil float)\n",
        "pembagian_bulat = a // b # Bagi (bulat)\n",
        "modulus = a % b          # Sisa bagi\n",
        "pangkat = a ** b         # Pemangkatan\n",
        "\n",
        "print(\"\\nOPERASI ARITMETIKA\")\n",
        "print(\"a =\", a, \", b =\", b)\n",
        "print(\"Penjumlahan =\", penjumlahan)\n",
        "print(\"Pengurangan =\", pengurangan)\n",
        "print(\"Perkalian =\", perkalian)\n",
        "print(\"Pembagian =\", pembagian)\n",
        "print(\"Pembagian Bulat =\", pembagian_bulat)\n",
        "print(\"Modulus =\", modulus)\n",
        "print(\"Pangkat =\", pangkat)"
      ],
      "metadata": {
        "colab": {
          "base_uri": "https://localhost:8080/"
        },
        "id": "OO_fqr7k4OIh",
        "outputId": "11af5fb8-86a7-414b-982d-7519becdceae"
      },
      "execution_count": null,
      "outputs": [
        {
          "output_type": "stream",
          "name": "stdout",
          "text": [
            "\n",
            "OPERASI ARITMETIKA\n",
            "a = 10 , b = 3\n",
            "Penjumlahan = 13\n",
            "Pengurangan = 7\n",
            "Perkalian = 30\n",
            "Pembagian = 3.3333333333333335\n",
            "Pembagian Bulat = 3\n",
            "Modulus = 1\n",
            "Pangkat = 1000\n"
          ]
        }
      ]
    },
    {
      "cell_type": "code",
      "source": [
        "# 3. Operasi Perbandingan\n",
        "# Menghasilkan nilai Boolean (True/False)\n",
        "lebih_besar = a > b\n",
        "kurang_dari = a < b\n",
        "sama_dengan = a == b\n",
        "tidak_sama = a != b\n",
        "lebih_besar_sama = a >= b\n",
        "kurang_sama = a <= b\n",
        "\n",
        "print(\"\\nOPERASI PERBANDINGAN\")\n",
        "print(\"a > b =\", lebih_besar)\n",
        "print(\"a < b =\", kurang_dari)\n",
        "print(\"a == b =\", sama_dengan)\n",
        "print(\"a != b =\", tidak_sama)\n",
        "print(\"a >= b =\", lebih_besar_sama)\n",
        "print(\"a <= b =\", kurang_sama)"
      ],
      "metadata": {
        "colab": {
          "base_uri": "https://localhost:8080/"
        },
        "id": "aQlFprnF4W2t",
        "outputId": "a830a178-d60b-44ed-f1c5-d67bab87be42"
      },
      "execution_count": null,
      "outputs": [
        {
          "output_type": "stream",
          "name": "stdout",
          "text": [
            "\n",
            "OPERASI PERBANDINGAN\n",
            "a > b = True\n",
            "a < b = False\n",
            "a == b = False\n",
            "a != b = True\n",
            "a >= b = True\n",
            "a <= b = False\n"
          ]
        }
      ]
    },
    {
      "cell_type": "code",
      "source": [
        "# 4. Operasi Logika\n",
        "# and, or, not\n",
        "\n",
        "x = True\n",
        "y = False\n",
        "\n",
        "logika_and = x and y\n",
        "logika_or = x or y\n",
        "logika_not_x = not x\n",
        "\n",
        "print(\"\\nOPERASI LOGIKA\")\n",
        "print(\"x =\", x, \", y =\", y)\n",
        "print(\"x and y =\", logika_and)\n",
        "print(\"x or y =\", logika_or)\n",
        "print(\"not x =\", logika_not_x)"
      ],
      "metadata": {
        "colab": {
          "base_uri": "https://localhost:8080/"
        },
        "id": "dmGTONKi4c_7",
        "outputId": "714a7844-4a01-4513-ad1a-e5e90ab4289a"
      },
      "execution_count": null,
      "outputs": [
        {
          "output_type": "stream",
          "name": "stdout",
          "text": [
            "\n",
            "OPERASI LOGIKA\n",
            "x = True , y = False\n",
            "x and y = False\n",
            "x or y = True\n",
            "not x = False\n"
          ]
        }
      ]
    },
    {
      "cell_type": "code",
      "source": [
        "# 5. Contoh penggunaan di dalam percabangan\n",
        "if a > b and b > 0:\n",
        "    print(\"\\nKondisi terpenuhi: a lebih besar dari b, dan b masih positif.\")\n",
        "else:\n",
        "    print(\"\\nKondisi tidak terpenuhi atau b <= 0.\")"
      ],
      "metadata": {
        "colab": {
          "base_uri": "https://localhost:8080/"
        },
        "id": "Agvh8_2M4ihI",
        "outputId": "39722029-86fb-4220-9c7b-6eb1f9f50f23"
      },
      "execution_count": null,
      "outputs": [
        {
          "output_type": "stream",
          "name": "stdout",
          "text": [
            "\n",
            "Kondisi terpenuhi: a lebih besar dari b, dan b masih positif.\n"
          ]
        }
      ]
    },
    {
      "cell_type": "markdown",
      "source": [
        "## Praktikum 03. Percabangan"
      ],
      "metadata": {
        "id": "o8s8Um6R4uKT"
      }
    },
    {
      "cell_type": "code",
      "source": [
        "# 1. IF Sederhana\n",
        "# Program hanya mengeksekusi blok jika kondisinya True\n",
        "\n",
        "nilai = 85\n",
        "print(\"Contoh IF Sederhana:\")\n",
        "if nilai > 80:\n",
        "    print(\"Selamat! Anda lulus dengan nilai tinggi.\\n\")"
      ],
      "metadata": {
        "colab": {
          "base_uri": "https://localhost:8080/"
        },
        "id": "ofYcRL0S4z3N",
        "outputId": "b384a73c-2c25-4908-d310-be52044e4944"
      },
      "execution_count": null,
      "outputs": [
        {
          "output_type": "stream",
          "name": "stdout",
          "text": [
            "Contoh IF Sederhana:\n",
            "Selamat! Anda lulus dengan nilai tinggi.\n",
            "\n"
          ]
        }
      ]
    },
    {
      "cell_type": "code",
      "source": [
        "# 2. IF-ELSE\n",
        "# Jika kondisi True, eksekusi blok if; jika False, eksekusi blok else\n",
        "\n",
        "umur = 17\n",
        "print(\"Contoh IF-ELSE:\")\n",
        "if umur >= 18:\n",
        "    print(\"Anda sudah cukup umur untuk mendapatkan SIM.\")\n",
        "else:\n",
        "    print(\"Anda belum cukup umur untuk mendapatkan SIM.\\n\")"
      ],
      "metadata": {
        "colab": {
          "base_uri": "https://localhost:8080/"
        },
        "id": "ybyKJwiX5PLt",
        "outputId": "42e77c20-4c30-406c-df44-d25b071c608d"
      },
      "execution_count": null,
      "outputs": [
        {
          "output_type": "stream",
          "name": "stdout",
          "text": [
            "Contoh IF-ELSE:\n",
            "Anda belum cukup umur untuk mendapatkan SIM.\n",
            "\n"
          ]
        }
      ]
    },
    {
      "cell_type": "code",
      "source": [
        "# 3. IF-ELIF-ELSE\n",
        "# Menangani banyak kondisi secara berurutan.\n",
        "# Jika ada kondisi yang terpenuhi, blok yang bersangkutan dieksekusi,\n",
        "# lalu program melewati blok kondisi setelahnya.\n",
        "\n",
        "hari = \"Rabu\"\n",
        "print(\"Contoh IF-ELIF-ELSE:\")\n",
        "if hari == \"Senin\":\n",
        "    print(\"Hari Senin - Saatnya kembali bekerja!\")\n",
        "elif hari == \"Selasa\":\n",
        "    print(\"Hari Selasa - Jadwal rapat mingguan.\")\n",
        "elif hari == \"Rabu\":\n",
        "    print(\"Hari Rabu - Ada diskon di beberapa toko.\")\n",
        "else:\n",
        "    print(\"Hari lainnya - Atur jadwalmu dengan baik.\\n\")"
      ],
      "metadata": {
        "colab": {
          "base_uri": "https://localhost:8080/"
        },
        "id": "Wrw1Ubrw5T1c",
        "outputId": "642e6ab1-4d0e-436e-c656-5d3084fb361b"
      },
      "execution_count": null,
      "outputs": [
        {
          "output_type": "stream",
          "name": "stdout",
          "text": [
            "Contoh IF-ELIF-ELSE:\n",
            "Hari Rabu - Ada diskon di beberapa toko.\n"
          ]
        }
      ]
    },
    {
      "cell_type": "code",
      "source": [
        "# 4. IF Bersarang (Nested IF)\n",
        "# Kondisi di dalam kondisi, biasa digunakan jika kita perlu\n",
        "# memeriksa sub-kondisi setelah kondisi pertama terpenuhi.\n",
        "\n",
        "suhu = 35\n",
        "print(\"Contoh IF Bersarang (Nested IF):\")\n",
        "if suhu > 30:\n",
        "    print(\"Cuaca cukup panas.\")\n",
        "    if suhu > 40:\n",
        "        print(\"Bahkan sangat terik! Disarankan banyak minum air.\")\n",
        "    else:\n",
        "        print(\"Masih relatif normal, tapi tetap jaga kesehatan.\")\n",
        "else:\n",
        "    print(\"Cuaca sepertinya cukup sejuk.\\n\")"
      ],
      "metadata": {
        "colab": {
          "base_uri": "https://localhost:8080/"
        },
        "id": "JHEUGwNe5X69",
        "outputId": "35d98a64-93a0-489b-c7c9-8ec59e9fee08"
      },
      "execution_count": null,
      "outputs": [
        {
          "output_type": "stream",
          "name": "stdout",
          "text": [
            "Contoh IF Bersarang (Nested IF):\n",
            "Cuaca cukup panas.\n",
            "Masih relatif normal, tapi tetap jaga kesehatan.\n"
          ]
        }
      ]
    },
    {
      "cell_type": "code",
      "source": [
        "# 5. Menggabungkan Percabangan dengan Operasi Logika\n",
        "# Memeriksa beberapa kondisi sekaligus dengan and, or, not\n",
        "\n",
        "nilai_teori = 75\n",
        "nilai_praktik = 80\n",
        "print(\"Contoh IF dengan Operasi Logika AND/OR:\")\n",
        "if nilai_teori >= 70 and nilai_praktik >= 70:\n",
        "    print(\"Anda lulus karena nilai teori dan praktik memadai.\")\n",
        "elif nilai_teori < 70 and nilai_praktik < 70:\n",
        "    print(\"Anda perlu meningkatkan nilai teori dan praktik.\")\n",
        "elif nilai_teori < 70:\n",
        "    print(\"Anda perlu meningkatkan nilai teori.\")\n",
        "else:\n",
        "    print(\"Anda perlu meningkatkan nilai praktik.\\n\")"
      ],
      "metadata": {
        "colab": {
          "base_uri": "https://localhost:8080/"
        },
        "id": "uFF1zU4x5bhT",
        "outputId": "b0f4dd90-e226-4c3b-f961-aae4e2084427"
      },
      "execution_count": null,
      "outputs": [
        {
          "output_type": "stream",
          "name": "stdout",
          "text": [
            "Contoh IF dengan Operasi Logika AND/OR:\n",
            "Anda lulus karena nilai teori dan praktik memadai.\n"
          ]
        }
      ]
    },
    {
      "cell_type": "code",
      "source": [
        "# 6. Penggunaan If Ternary (atau Conditional Expression)\n",
        "# Bentuk ringkas: <hasil_if_true> if <kondisi> else <hasil_if_false>\n",
        "\n",
        "angka = -5\n",
        "print(\"Contoh If Ternary (Conditional Expression):\")\n",
        "status = \"Positif\" if angka > 0 else \"Negatif atau Nol\"\n",
        "print(\"Angka =\", angka, \"=>\", status)"
      ],
      "metadata": {
        "colab": {
          "base_uri": "https://localhost:8080/"
        },
        "id": "HyV1593m5fsq",
        "outputId": "e963d5b0-f466-4457-f812-6d931a1b3241"
      },
      "execution_count": null,
      "outputs": [
        {
          "output_type": "stream",
          "name": "stdout",
          "text": [
            "Contoh If Ternary (Conditional Expression):\n",
            "Angka = -5 => Negatif atau Nol\n"
          ]
        }
      ]
    },
    {
      "cell_type": "markdown",
      "source": [
        "## Praktikum 04. Perulangan"
      ],
      "metadata": {
        "id": "MjrRvsYc5xVp"
      }
    },
    {
      "cell_type": "code",
      "source": [
        "# 1. FOR Loop dengan range()\n",
        "print(\"1) FOR loop dengan range()\")\n",
        "for i in range(5):\n",
        "    print(\"Perulangan ke-\", i)\n",
        "# range(5) menghasilkan nilai 0, 1, 2, 3, dan 4\n",
        "# Sehingga perulangan akan berjalan sebanyak 5 kali\n",
        "\n",
        "print()  # pemisah output"
      ],
      "metadata": {
        "colab": {
          "base_uri": "https://localhost:8080/"
        },
        "id": "2goNtFcz50Yx",
        "outputId": "74cde2ee-5372-4080-db70-bec105041eaf"
      },
      "execution_count": null,
      "outputs": [
        {
          "output_type": "stream",
          "name": "stdout",
          "text": [
            "1) FOR loop dengan range()\n",
            "Perulangan ke- 0\n",
            "Perulangan ke- 1\n",
            "Perulangan ke- 2\n",
            "Perulangan ke- 3\n",
            "Perulangan ke- 4\n",
            "\n"
          ]
        }
      ]
    },
    {
      "cell_type": "code",
      "source": [
        "# 2. FOR Loop untuk mengiterasi List\n",
        "print(\"2) FOR loop mengiterasi list\")\n",
        "buah = [\"apel\", \"mangga\", \"jeruk\", \"pisang\"]\n",
        "for item in buah:\n",
        "    print(\"Buah:\", item)\n",
        "# Loop akan mengeksekusi setiap elemen dalam list \"buah\"\n",
        "\n",
        "print()"
      ],
      "metadata": {
        "colab": {
          "base_uri": "https://localhost:8080/"
        },
        "id": "6D--lu_M_gzf",
        "outputId": "c8858557-a65c-4889-9309-a75e09fb6d49"
      },
      "execution_count": null,
      "outputs": [
        {
          "output_type": "stream",
          "name": "stdout",
          "text": [
            "2) FOR loop mengiterasi list\n",
            "Buah: apel\n",
            "Buah: mangga\n",
            "Buah: jeruk\n",
            "Buah: pisang\n",
            "\n"
          ]
        }
      ]
    },
    {
      "cell_type": "code",
      "source": [
        "# 3. WHILE Loop\n",
        "print(\"3) WHILE loop sederhana\")\n",
        "count = 0\n",
        "while count < 5:\n",
        "    print(\"count =\", count)\n",
        "    count += 1  # increment\n",
        "# Perulangan while terus dijalankan selama kondisi (count < 5) bernilai True\n",
        "\n",
        "print()"
      ],
      "metadata": {
        "colab": {
          "base_uri": "https://localhost:8080/"
        },
        "id": "PTWmf-mh_n4y",
        "outputId": "940a1065-fd5b-4b4d-bad9-4ecf43e80182"
      },
      "execution_count": null,
      "outputs": [
        {
          "output_type": "stream",
          "name": "stdout",
          "text": [
            "3) WHILE loop sederhana\n",
            "count = 0\n",
            "count = 1\n",
            "count = 2\n",
            "count = 3\n",
            "count = 4\n",
            "\n"
          ]
        }
      ]
    },
    {
      "cell_type": "code",
      "source": [
        "# 4. BREAK pada Loop\n",
        "print(\"4) BREAK di dalam loop\")\n",
        "for i in range(10):\n",
        "    if i == 3:\n",
        "        print(\"Loop dihentikan pada i =\", i)\n",
        "        break  # mengakhiri loop saat i = 3\n",
        "    print(\"i =\", i)\n",
        "# Keyword break langsung menghentikan keseluruhan perulangan\n",
        "\n",
        "print()"
      ],
      "metadata": {
        "colab": {
          "base_uri": "https://localhost:8080/"
        },
        "id": "FDZMuUwG_riR",
        "outputId": "3ea7d3cc-27ad-4504-8be3-926a3cf4a805"
      },
      "execution_count": null,
      "outputs": [
        {
          "output_type": "stream",
          "name": "stdout",
          "text": [
            "4) BREAK di dalam loop\n",
            "i = 0\n",
            "i = 1\n",
            "i = 2\n",
            "Loop dihentikan pada i = 3\n",
            "\n"
          ]
        }
      ]
    },
    {
      "cell_type": "code",
      "source": [
        "# 5. CONTINUE pada Loop\n",
        "print(\"5) CONTINUE di dalam loop\")\n",
        "for i in range(5):\n",
        "    if i == 2:\n",
        "        print(\"Lewati i =\", i, \"dengan continue\")\n",
        "        continue  # melewati iterasi saat ini dan lanjut ke iterasi berikutnya\n",
        "    print(\"i =\", i)\n",
        "# Saat i = 2, baris print(\"i =\", i) tidak akan dieksekusi\n",
        "\n",
        "print()"
      ],
      "metadata": {
        "colab": {
          "base_uri": "https://localhost:8080/"
        },
        "id": "oMqundjq_ugB",
        "outputId": "42c8c4a1-31e9-484c-a8b1-37824ffb5463"
      },
      "execution_count": null,
      "outputs": [
        {
          "output_type": "stream",
          "name": "stdout",
          "text": [
            "5) CONTINUE di dalam loop\n",
            "i = 0\n",
            "i = 1\n",
            "Lewati i = 2 dengan continue\n",
            "i = 3\n",
            "i = 4\n",
            "\n"
          ]
        }
      ]
    },
    {
      "cell_type": "code",
      "source": [
        "# 6. NESTED Loop (Loop Bersarang)\n",
        "print(\"6) NESTED loop\")\n",
        "for i in range(3):            # Loop luar (outer loop)\n",
        "    for j in range(2):        # Loop dalam (inner loop)\n",
        "        print(f\"i={i}, j={j}\")\n",
        "# Pada setiap iterasi i, loop j akan berjalan dari 0 sampai 1\n",
        "\n",
        "print()"
      ],
      "metadata": {
        "colab": {
          "base_uri": "https://localhost:8080/"
        },
        "id": "E3AiCqYd_xeq",
        "outputId": "162aa466-ae5a-4e13-8fe1-15b9bd353d54"
      },
      "execution_count": null,
      "outputs": [
        {
          "output_type": "stream",
          "name": "stdout",
          "text": [
            "6) NESTED loop\n",
            "i=0, j=0\n",
            "i=0, j=1\n",
            "i=1, j=0\n",
            "i=1, j=1\n",
            "i=2, j=0\n",
            "i=2, j=1\n",
            "\n"
          ]
        }
      ]
    },
    {
      "cell_type": "code",
      "source": [
        "# 7. Memanfaatkan ELSE pada Loop\n",
        "print(\"7) ELSE pada loop for/while\")\n",
        "# Python memiliki fitur unik: blok else pada loop\n",
        "# Blok else akan dieksekusi jika loop selesai tanpa di-break.\n",
        "\n",
        "for x in range(3):\n",
        "    print(\"x =\", x)\n",
        "else:\n",
        "    print(\"Loop for telah selesai tanpa break.\\n\")\n",
        "\n",
        "y = 0\n",
        "while y < 3:\n",
        "    print(\"y =\", y)\n",
        "    y += 1\n",
        "else:\n",
        "    print(\"Loop while telah selesai tanpa break.\\n\")"
      ],
      "metadata": {
        "colab": {
          "base_uri": "https://localhost:8080/"
        },
        "id": "g6r-10eZ_1o1",
        "outputId": "bee26dd1-cb77-40f2-9020-f0082a7dcc4f"
      },
      "execution_count": null,
      "outputs": [
        {
          "output_type": "stream",
          "name": "stdout",
          "text": [
            "7) ELSE pada loop for/while\n",
            "x = 0\n",
            "x = 1\n",
            "x = 2\n",
            "Loop for telah selesai tanpa break.\n",
            "\n",
            "y = 0\n",
            "y = 1\n",
            "y = 2\n",
            "Loop while telah selesai tanpa break.\n",
            "\n"
          ]
        }
      ]
    },
    {
      "cell_type": "code",
      "source": [
        "# 8. PASS sebagai placeholder\n",
        "print(\"8) PASS (placeholder)\")\n",
        "for i in range(3):\n",
        "    if i == 1:\n",
        "        pass  # pass tidak melakukan apa-apa, digunakan sebagai placeholder\n",
        "    print(\"i =\", i)"
      ],
      "metadata": {
        "colab": {
          "base_uri": "https://localhost:8080/"
        },
        "id": "xMhty6j3_9Uz",
        "outputId": "a510b06c-e723-4411-e33b-0277f5b30fb4"
      },
      "execution_count": null,
      "outputs": [
        {
          "output_type": "stream",
          "name": "stdout",
          "text": [
            "8) PASS (placeholder)\n",
            "i = 0\n",
            "i = 1\n",
            "i = 2\n"
          ]
        }
      ]
    },
    {
      "cell_type": "markdown",
      "source": [
        "# Penugasan"
      ],
      "metadata": {
        "id": "J2BXIhNdBgrH"
      }
    },
    {
      "cell_type": "markdown",
      "source": [
        "## Buat Program 1"
      ],
      "metadata": {
        "id": "yt-oK70PBqGS"
      }
    },
    {
      "cell_type": "markdown",
      "source": [
        "Buat program untuk menghitung BMI (Body Mass Index) dengan rumus:\n",
        "\n",
        "***BMI* = 𝑏𝑒𝑟𝑎𝑡(𝑘𝑔)/𝑡𝑖𝑛𝑔𝑔𝑖(𝑚)²**\n",
        "\n",
        "a. Input: berat (kg) dan tinggi (cm).\n",
        "\n",
        "b. Output: nilai BMI dan kategori (Underweight dibawah 18.5, Normal 18.5-24.9, Overweight 25-29.9).\n",
        "\n",
        "Untuk mendapatkan input, dapat menggunakan perintah input() pada program\n",
        "python."
      ],
      "metadata": {
        "id": "swT38GIjBzZv"
      }
    },
    {
      "cell_type": "code",
      "source": [
        "def hitung_bmi(berat, tinggi_cm):\n",
        "    # Konversi tinggi dari cm ke meter\n",
        "    tinggi_m = tinggi_cm / 100\n",
        "    # Hitung BMI\n",
        "    bmi = berat / (tinggi_m ** 2)\n",
        "    return bmi\n",
        "\n",
        "def kategori_bmi(bmi):\n",
        "    if bmi < 18.5:\n",
        "        return \"Underweight\"\n",
        "    elif 18.5 <= bmi <= 24.9:\n",
        "        return \"Normal\"\n",
        "    elif 25 <= bmi <= 29.9:\n",
        "        return \"Overweight\"\n",
        "    else:\n",
        "        return \"Obese\"\n",
        "\n",
        "while True:\n",
        "    # Input berat dan tinggi dari pengguna\n",
        "    berat = float(input(\"Masukkan berat badan (kg): \"))\n",
        "    tinggi_cm = float(input(\"Masukkan tinggi badan (cm): \"))\n",
        "\n",
        "    # Hitung dan tampilkan hasil\n",
        "    bmi = hitung_bmi(berat, tinggi_cm)\n",
        "    kategori = kategori_bmi(bmi)\n",
        "\n",
        "    print(f\"\\nBMI Anda: {bmi:.2f}\")\n",
        "    print(f\"Kategori: {kategori}\")\n",
        "\n",
        "    # Pilihan untuk melanjutkan\n",
        "    lanjut = input(\"Apakah ingin melanjutkan program? (y/n): \").strip().lower()\n",
        "    if lanjut != 'y':\n",
        "        print(\"Terima kasih telah menggunakan program BMI.\")\n",
        "        break\n"
      ],
      "metadata": {
        "id": "j4drmiN2ecQS"
      },
      "execution_count": null,
      "outputs": []
    },
    {
      "cell_type": "markdown",
      "source": [
        "## Buat Program 2"
      ],
      "metadata": {
        "id": "M0NGPNB8DWDB"
      }
    },
    {
      "cell_type": "markdown",
      "source": [
        "Buat program yang mengecek apakah suatu bilangan genap, ganjil, atau prima."
      ],
      "metadata": {
        "id": "o_oDM0VCDdf_"
      }
    },
    {
      "cell_type": "code",
      "source": [
        "def cek_bilangan(bilangan):\n",
        "    if bilangan % 2 == 0:\n",
        "        jenis = \"Genap\"\n",
        "    else:\n",
        "        jenis = \"Ganjil\"\n",
        "\n",
        "    if bilangan > 1:\n",
        "        for i in range(2, int(bilangan ** 0.5) + 1):\n",
        "            if bilangan % i == 0:\n",
        "                return f\"Bilangan {bilangan} adalah {jenis}.\"\n",
        "        return f\"Bilangan {bilangan} adalah {jenis} dan Prima.\"\n",
        "    elif bilangan == 1:\n",
        "        return f\"Bilangan {bilangan} adalah Ganjil, tetapi bukan bilangan Prima.\"\n",
        "    else:\n",
        "        return f\"Bilangan {bilangan} adalah {jenis}, tetapi bukan bilangan Prima.\"\n",
        "\n",
        "# Program utama\n",
        "while True:\n",
        "    try:\n",
        "        angka = int(input(\"Masukkan bilangan: \"))\n",
        "        hasil = cek_bilangan(angka)\n",
        "        print(hasil)\n",
        "    except ValueError:\n",
        "        print(\"Masukkan angka yang valid!\")\n",
        "\n",
        "    # Pilihan untuk melanjutkan\n",
        "    lanjut = input(\"Apakah ingin mengecek bilangan lain? (y/n): \").strip().lower()\n",
        "    if lanjut != 'y':\n",
        "        print(\"Terima kasih telah menggunakan program.\")\n",
        "        break"
      ],
      "metadata": {
        "colab": {
          "base_uri": "https://localhost:8080/"
        },
        "id": "Nk8xtJPVVhmd",
        "outputId": "3db45d54-2d3c-4a7d-b428-9ec9a96b2282"
      },
      "execution_count": null,
      "outputs": [
        {
          "output_type": "stream",
          "name": "stdout",
          "text": [
            "Masukkan bilangan: 8\n",
            "Bilangan 8 adalah Genap.\n",
            "Apakah ingin mengecek bilangan lain? (y/n): y\n",
            "Masukkan bilangan: 9\n",
            "Bilangan 9 adalah Ganjil.\n",
            "Apakah ingin mengecek bilangan lain? (y/n): y\n",
            "Masukkan bilangan: 7\n",
            "Bilangan 7 adalah Ganjil dan Prima.\n",
            "Apakah ingin mengecek bilangan lain? (y/n): n\n",
            "Terima kasih telah menggunakan program.\n"
          ]
        }
      ]
    }
  ]
}